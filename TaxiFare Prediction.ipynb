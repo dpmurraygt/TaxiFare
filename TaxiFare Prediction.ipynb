{
 "cells": [
  {
   "cell_type": "code",
   "execution_count": 2,
   "metadata": {},
   "outputs": [],
   "source": [
    "%matplotlib inline  \n"
   ]
  },
  {
   "cell_type": "markdown",
   "metadata": {},
   "source": [
    "# Predicting New York City Taxi Fares: A DBSCAN and Random Forest Approach"
   ]
  },
  {
   "cell_type": "markdown",
   "metadata": {},
   "source": [
    "### Dennis Murray - dmurray.ie99@gmail.com"
   ]
  },
  {
   "cell_type": "markdown",
   "metadata": {},
   "source": [
    "## Introduction"
   ]
  },
  {
   "cell_type": "markdown",
   "metadata": {},
   "source": [
    "The number of trips made annually in New York City taxis exceeds one hundred million per year.  For riders, and especially out of town riders, there is an element of the unknown when using a taxi because of the variability of the fare for each trip.\n",
    "\n",
    "The fare for a trip consists of several components.  The base rate is charged each time a customer enters the cab.  After this is assessed, each 0.2 mile is assessed a rate, and each minute where the cab travels at less than 12 miles per hour is charged a surcharge.  Other surcharges exist for evening rush hour and overnight time periods.  In addition, several common trips - to the airports - hold their own fare structure.  Areas outside of the city also hold a different fare structure.\n",
    "\n",
    "Thus, we will show that a simple linear function of distance times rate, plus base rate, will not produce an adequate estimate of the fare.  \n",
    "\n",
    "Additional features will be required to help explain the local traffic patterns, or unique destinations like airports, that will create their own unique fare zones."
   ]
  },
  {
   "cell_type": "markdown",
   "metadata": {},
   "source": [
    "## Data Preparation and Import"
   ]
  },
  {
   "cell_type": "markdown",
   "metadata": {},
   "source": [
    "In the interest of processing efficiency and understanding diminishing returns, a random sample of 1% of the trips was taken.  This still comprises more than 500,000 trips.\n",
    "\n",
    "Basic New features were developed for:\n",
    "1.  Difference In Latitude (Dropoff-pickup)\n",
    "2.  Difference in Longitude (Dropoff-pickup)\n",
    "3.  Euclidean Distance (Pythagorean Theorem length of the hypotenuse of Destination to Origin)\n",
    "4.  Bearing of Travel, based on 0-360 degrees\n",
    "5.  Year, Day of the Week, and Hour of the Day were developed from the Pickup date time\n",
    "\n",
    "Any records with NA's for any field were dropped.  Records with difference of greater than 5 degrees of Longitude or Latitude were also dropped.  \n",
    "\n",
    "The rationale for the added features is to attempt to capture some of the variation in fares during specific times of the day, and days of the week.  This variation could be either from the surcharge structure, or from the traffic conditions causing additional travel time under twelve miles per hour."
   ]
  },
  {
   "cell_type": "code",
   "execution_count": 3,
   "metadata": {},
   "outputs": [],
   "source": [
    "import pandas as pd\n",
    "from sklearn.model_selection import train_test_split\n",
    "from sklearn.preprocessing import StandardScaler\n",
    "from sklearn.pipeline import Pipeline\n",
    "import seaborn as sb\n",
    "import numpy as np\n",
    "from sklearn.metrics import mean_squared_error\n",
    "from numpy import radians, cos, sin, arcsin, sqrt, arctan2, degrees"
   ]
  },
  {
   "cell_type": "code",
   "execution_count": 4,
   "metadata": {},
   "outputs": [],
   "source": [
    "farehistory = pd.read_csv(\"data/train.csv\")\n",
    "farehistory = farehistory.sample(frac=0.01)"
   ]
  },
  {
   "cell_type": "code",
   "execution_count": 5,
   "metadata": {},
   "outputs": [],
   "source": [
    "#feature development\n",
    "farehistory['diffLong'] = abs(farehistory['dropoff_longitude'] - farehistory['pickup_longitude'])\n",
    "farehistory['diffLat'] = abs(farehistory['dropoff_latitude'] - farehistory['pickup_latitude'])\n",
    "#calculate as the crow flies distance without correction for globe\n",
    "farehistory['euclidean'] = (farehistory['diffLong']**2 + farehistory['diffLat']**2)**0.5\n",
    "\n"
   ]
  },
  {
   "cell_type": "code",
   "execution_count": 6,
   "metadata": {},
   "outputs": [],
   "source": [
    "#calculate heading of travel\n",
    "farehistory['bearing'] = arctan2(sin(farehistory['dropoff_longitude'] - farehistory['pickup_longitude'])*cos(farehistory['dropoff_latitude']), cos(farehistory['pickup_latitude'])*sin(farehistory['dropoff_latitude'])-sin(farehistory['pickup_latitude'])*cos(farehistory['dropoff_latitude'])*cos(farehistory['dropoff_longitude'] -farehistory['pickup_longitude']))\n",
    "farehistory['bearing'] = degrees(farehistory['bearing'])\n",
    "farehistory['bearing'] = (farehistory['bearing'] + 360) % 360"
   ]
  },
  {
   "cell_type": "code",
   "execution_count": 7,
   "metadata": {},
   "outputs": [
    {
     "data": {
      "text/plain": [
       "<matplotlib.axes._subplots.AxesSubplot at 0x25db11e9630>"
      ]
     },
     "execution_count": 7,
     "metadata": {},
     "output_type": "execute_result"
    },
    {
     "data": {
      "image/png": "[encoded data removed]",
      "text/plain": [
       "<matplotlib.figure.Figure at 0x25db3a659e8>"
      ]
     },
     "metadata": {},
     "output_type": "display_data"
    }
   ],
   "source": [
    "sb.distplot(farehistory['euclidean'].dropna())"
   ]
  },
  {
   "cell_type": "code",
   "execution_count": 8,
   "metadata": {},
   "outputs": [
    {
     "data": {
      "text/plain": [
       "<matplotlib.axes._subplots.AxesSubplot at 0x25ed8b52e48>"
      ]
     },
     "execution_count": 8,
     "metadata": {},
     "output_type": "execute_result"
    },
    {
     "data": {
      "image/png": "[encoded data removed]",
      "text/plain": [
       "<matplotlib.figure.Figure at 0x260108250b8>"
      ]
     },
     "metadata": {},
     "output_type": "display_data"
    }
   ],
   "source": [
    "sb.distplot(farehistory['bearing'].dropna())"
   ]
  },
  {
   "cell_type": "markdown",
   "metadata": {},
   "source": [
    "Most of the bearings of trips are either north bound, or southbound.  "
   ]
  },
  {
   "cell_type": "code",
   "execution_count": 9,
   "metadata": {},
   "outputs": [],
   "source": [
    "farehistory = farehistory.dropna(how='any', axis='rows')\n",
    "farehistory = farehistory[(farehistory['diffLong']<5.0) & (farehistory['diffLat']<5.0)]"
   ]
  },
  {
   "cell_type": "code",
   "execution_count": 10,
   "metadata": {},
   "outputs": [
    {
     "data": {
      "text/plain": [
       "<matplotlib.axes._subplots.AxesSubplot at 0x2605ad8c550>"
      ]
     },
     "execution_count": 10,
     "metadata": {},
     "output_type": "execute_result"
    },
    {
     "data": {
      "image/png": "[encoded data removed]",
      "text/plain": [
       "<matplotlib.figure.Figure at 0x260100aa518>"
      ]
     },
     "metadata": {},
     "output_type": "display_data"
    }
   ],
   "source": [
    "sb.distplot(farehistory['euclidean'].dropna())"
   ]
  },
  {
   "cell_type": "code",
   "execution_count": 11,
   "metadata": {},
   "outputs": [],
   "source": [
    "farehistory['pickup_datetime']=pd.to_datetime(farehistory['pickup_datetime'])"
   ]
  },
  {
   "cell_type": "code",
   "execution_count": 12,
   "metadata": {},
   "outputs": [
    {
     "data": {
      "text/plain": [
       "key                          object\n",
       "fare_amount                 float64\n",
       "pickup_datetime      datetime64[ns]\n",
       "pickup_longitude            float64\n",
       "pickup_latitude             float64\n",
       "dropoff_longitude           float64\n",
       "dropoff_latitude            float64\n",
       "passenger_count               int64\n",
       "diffLong                    float64\n",
       "diffLat                     float64\n",
       "euclidean                   float64\n",
       "bearing                     float64\n",
       "dtype: object"
      ]
     },
     "execution_count": 12,
     "metadata": {},
     "output_type": "execute_result"
    }
   ],
   "source": [
    "farehistory.dtypes"
   ]
  },
  {
   "cell_type": "code",
   "execution_count": 13,
   "metadata": {},
   "outputs": [],
   "source": [
    "#Decode day of the week and make into a one-hot categorical variable\n",
    "farehistory['dayofweek'] = (farehistory['pickup_datetime'].dt.dayofweek)\n",
    "\n",
    "#Decode hour of the day and make into a one-hot categorical variable\n",
    "farehistory['hour'] = (farehistory['pickup_datetime'].dt.hour)\n",
    "farehistory['year']= farehistory['pickup_datetime'].dt.year"
   ]
  },
  {
   "cell_type": "markdown",
   "metadata": {},
   "source": [
    "   ## Base Models for Comparison: Linear Regression and Random Forest"
   ]
  },
  {
   "cell_type": "markdown",
   "metadata": {},
   "source": [
    "As a point of comparison, using the basic features that have been developed, two general machine learing methods are applied:\n",
    "1.  Linear Regression\n",
    "2.  Random Forest\n",
    "\n",
    "Throughout the process, we will use Root Mean Square Error as the measurement of error for the testing.  At all times, an 80/20 Train/Test split is used."
   ]
  },
  {
   "cell_type": "code",
   "execution_count": 14,
   "metadata": {},
   "outputs": [],
   "source": [
    "#convert day and hour to dummy variables\n",
    "\n",
    "\n",
    "days = pd.get_dummies(farehistory['dayofweek'], prefix = \"weekday\")\n",
    "hours  = pd.get_dummies(farehistory['hour'], prefix = \"hour\")\n",
    "year = pd.get_dummies(farehistory['year'], prefix=\"year\")\n",
    "\n",
    "one_hot = pd.concat((days, hours, year), axis=1, join_axes=[days.index])\n",
    "\n",
    "y = farehistory['fare_amount']\n",
    "x = farehistory[['passenger_count', 'bearing', 'diffLat', 'diffLong', 'euclidean']]\n",
    "x = pd.concat((x, one_hot), axis=1)\n",
    "\n",
    "x.reset_index(drop=True,inplace=True)\n",
    "#OriginDropOff.reset_index(drop=True,inplace=True)\n",
    "\n",
    "\n",
    "#x = pd.concat((x, OriginDropOff), axis=1)\n",
    "#x = farehistory.loc[:, 9:].values\n",
    "x\n",
    "\n",
    "X_train, X_test, y_train, y_test = train_test_split(x, y, test_size=0.20, random_state=1)"
   ]
  },
  {
   "cell_type": "code",
   "execution_count": 15,
   "metadata": {},
   "outputs": [
    {
     "name": "stdout",
     "output_type": "stream",
     "text": [
      "Wall time: 0 ns\n",
      "Test Accuracy: 0.540\n"
     ]
    }
   ],
   "source": [
    "%time\n",
    "from sklearn.linear_model import LinearRegression\n",
    "linreg = LinearRegression()\n",
    "linreg.fit(X_train, y_train)\n",
    "print('Test Accuracy: %.3f' % linreg.score(X_test, y_test))\n"
   ]
  },
  {
   "cell_type": "code",
   "execution_count": 16,
   "metadata": {},
   "outputs": [
    {
     "data": {
      "text/plain": [
       "6.54624971978897"
      ]
     },
     "execution_count": 16,
     "metadata": {},
     "output_type": "execute_result"
    }
   ],
   "source": [
    "mean_squared_error(y_test,linreg.predict(X_test))**0.5"
   ]
  },
  {
   "cell_type": "code",
   "execution_count": 17,
   "metadata": {},
   "outputs": [
    {
     "name": "stdout",
     "output_type": "stream",
     "text": [
      "Test Accuracy: 0.748\n",
      "Wall time: 58 s\n"
     ]
    }
   ],
   "source": [
    "%%time\n",
    "from sklearn.ensemble import RandomForestRegressor\n",
    "rfr = RandomForestRegressor()\n",
    "\n",
    "rfr.fit(X_train, y_train)\n",
    "print('Test Accuracy: %.3f' % rfr.score(X_test, y_test))"
   ]
  },
  {
   "cell_type": "code",
   "execution_count": 18,
   "metadata": {},
   "outputs": [
    {
     "data": {
      "text/plain": [
       "4.840015219393972"
      ]
     },
     "execution_count": 18,
     "metadata": {},
     "output_type": "execute_result"
    }
   ],
   "source": [
    "mean_squared_error(y_test,rfr.predict(X_test))**0.5"
   ]
  },
  {
   "cell_type": "markdown",
   "metadata": {},
   "source": [
    "The model, with minimal features developed, has a RMSE of 6.54 for the linear model, and 4.84 for the Random Forest Regressor model.  "
   ]
  },
  {
   "cell_type": "markdown",
   "metadata": {},
   "source": [
    "## Engineering New Feature: DBSCAN based Origins and Destinations"
   ]
  },
  {
   "cell_type": "markdown",
   "metadata": {},
   "source": [
    "In the interest of providing information about common origins and destinations, we will cluster geographic points (either origins or destinations) using the DBSCAN algorithm.  The goal is to find common, high traffic areas that might have a large number of fares, and may experience some of the same traffic and congestion delays across trips within the same time and day of the week.\n",
    "\n",
    "The \"zones\" will be established in a two-step process using a subset of the data that is otherwise being used to train the model, to avoid overwhelming available computing resources.  The cluster with the most points, excluding the \"unclustered\" condition, will be broken further in a second step to additional clusters.  Parameters were established via testing and choosing a balance between the size of clusters, and the number of clusters created.\n",
    "\n",
    "Remaining points will be placed with the groups established through the DBSCAN process using a k-Nearest Neighbors algorithm.   "
   ]
  },
  {
   "cell_type": "code",
   "execution_count": 19,
   "metadata": {},
   "outputs": [],
   "source": [
    "#create dbscan based clusters of \"neighborhoods\" for the origin and destination points\n",
    "\n",
    "from sklearn.cluster import DBSCAN\n",
    "\n",
    "points1 = farehistory[['pickup_latitude', 'pickup_longitude']]\n",
    "points1 = points1.rename(columns={'pickup_latitude':\"latitude\", 'pickup_longitude':\"longitude\"})\n",
    "points2 = farehistory[['dropoff_latitude', 'dropoff_longitude']]\n",
    "points2 = points2.rename(columns={'dropoff_latitude':\"latitude\", 'dropoff_longitude':\"longitude\"})\n",
    "\n",
    "all_points = pd.concat((points1, points2), axis=0)\n",
    "all_points = all_points[(all_points['latitude']>=40) & (all_points['latitude']<=41)]\n",
    "all_points = all_points[(all_points['longitude']<=-72) & (all_points['longitude']>=-75)]\n",
    "plot_sample = all_points.sample(frac=0.01)"
   ]
  },
  {
   "cell_type": "code",
   "execution_count": 20,
   "metadata": {},
   "outputs": [
    {
     "name": "stdout",
     "output_type": "stream",
     "text": [
      "Test Accuracy: 0.747\n"
     ]
    }
   ],
   "source": [
    "from sklearn.ensemble import RandomForestRegressor\n",
    "rfr = RandomForestRegressor()\n",
    "\n",
    "rfr.fit(X_train, y_train)\n",
    "print('Test Accuracy: %.3f' % rfr.score(X_test, y_test))"
   ]
  },
  {
   "cell_type": "code",
   "execution_count": 21,
   "metadata": {},
   "outputs": [
    {
     "name": "stdout",
     "output_type": "stream",
     "text": [
      "Wall time: 33.1 s\n"
     ]
    }
   ],
   "source": [
    "%%time\n",
    "from sklearn.cluster import DBSCAN\n",
    "\n",
    "params = []\n",
    "\n",
    "subset = all_points.sample(frac=0.3, random_state=1, replace=False).reset_index(drop=True)\n",
    "\n",
    "subsetscaled = StandardScaler().fit_transform(subset)\n",
    "\n",
    "#Let's run with 0.075, 0.0001 as a starting point.  Seems to offer mix of detail and encompassing a lot of areas without too many clusters\n",
    "\n",
    "minpts = 0.0002 * len(subset)\n",
    "eps=0.07\n",
    "\n",
    "dbscan = DBSCAN(eps=eps, min_samples = minpts)\n",
    "dbscan.fit(X=subsetscaled)\n",
    "\n",
    "newfeature  = dbscan.labels_\n",
    "newfeature = pd.Series(newfeature)\n",
    "newfeature = pd.DataFrame({'EPS': eps, 'MinPts'  :minpts, 'cluster': newfeature})\n",
    "newfeature = pd.concat([subset, newfeature], axis=1)\n",
    "\n"
   ]
  },
  {
   "cell_type": "code",
   "execution_count": 22,
   "metadata": {},
   "outputs": [
    {
     "name": "stdout",
     "output_type": "stream",
     "text": [
      "733.04\n",
      "Wall time: 10 s\n"
     ]
    }
   ],
   "source": [
    "%%time\n",
    "#add a subclass for the largest clustering class which is Manhattan, class 0, try clustering at twice the density\n",
    "\n",
    "eps = 0.049\n",
    "\n",
    "subset = newfeature.loc[newfeature['cluster']==0]\n",
    "subset = subset[['latitude', 'longitude']]\n",
    "\n",
    "subsetscaled = StandardScaler().fit_transform(subset)\n",
    "\n",
    "\n",
    "minpts = .0025 * len(subsetscaled)\n",
    "\n",
    "subdbscan = DBSCAN(eps=eps, min_samples = minpts)\n",
    "subdbscan.fit(X=subsetscaled)\n",
    "\n",
    "newfeature2  = subdbscan.labels_\n",
    "newfeature2 = pd.Series(newfeature2)\n",
    "newfeature2 = pd.DataFrame({'EPS': eps, 'MinPts'  :minpts, 'cluster': newfeature2})\n",
    "subset.reset_index(inplace=True, drop=True)\n",
    "newfeature2 = pd.concat([subset, newfeature2], axis=1)\n",
    "\n",
    "\n",
    "#len(newfeature2['cluster'].unique())\n",
    "print(minpts)"
   ]
  },
  {
   "cell_type": "code",
   "execution_count": 23,
   "metadata": {},
   "outputs": [
    {
     "data": {
      "text/plain": [
       "24"
      ]
     },
     "execution_count": 23,
     "metadata": {},
     "output_type": "execute_result"
    }
   ],
   "source": [
    "len(newfeature2['cluster'].unique())"
   ]
  },
  {
   "cell_type": "markdown",
   "metadata": {},
   "source": [
    "This configuration gives us more detailed clusters for about 1/6 of all of Manhattan points of interest."
   ]
  },
  {
   "cell_type": "code",
   "execution_count": 24,
   "metadata": {},
   "outputs": [],
   "source": [
    "newfeature = newfeature[newfeature['cluster']!=0]\n",
    "newfeature.reset_index(inplace=True, drop=True)"
   ]
  },
  {
   "cell_type": "code",
   "execution_count": 25,
   "metadata": {},
   "outputs": [],
   "source": [
    "highcluster = max(newfeature['cluster'])\n",
    "newfeature2.loc[newfeature2.cluster==-1, ['cluster']] = 0\n",
    "newfeature2.loc[newfeature2.cluster>0, ['cluster']] = newfeature2['cluster']+highcluster + 1\n"
   ]
  },
  {
   "cell_type": "code",
   "execution_count": 26,
   "metadata": {},
   "outputs": [],
   "source": [
    "combined = pd.concat([newfeature, newfeature2], axis=0)\n",
    "newfeature = combined"
   ]
  },
  {
   "cell_type": "code",
   "execution_count": 27,
   "metadata": {},
   "outputs": [
    {
     "name": "stdout",
     "output_type": "stream",
     "text": [
      "Wall time: 1.05 s\n"
     ]
    }
   ],
   "source": [
    "%%time\n",
    "#train a model to classify other examples of lat, long to known cluster\n",
    "Y = (newfeature['cluster'])\n",
    "X = pd.DataFrame(newfeature[['latitude', 'longitude']])\n",
    "\n",
    "from sklearn import linear_model\n",
    "from sklearn.model_selection import StratifiedKFold\n",
    "from sklearn.model_selection import cross_val_score\n",
    "\n",
    "from sklearn.ensemble import RandomForestRegressor\n",
    "rfr = RandomForestRegressor()\n",
    "\n",
    "from sklearn.neighbors import KNeighborsClassifier\n",
    "\n",
    "#logreg = linear_model.LogisticRegression()\n",
    "\n",
    "X_train, X_test, y_train, y_test = \\\n",
    "    train_test_split(X, Y, test_size=0.30, random_state=1)\n",
    "    \n",
    "kfold = StratifiedKFold(5,random_state=1).split(X_train, y_train)\n",
    "\n",
    "#logreg.fit(X, Y)\n",
    "\n",
    "pipe_lr = Pipeline([('scl', StandardScaler()),\n",
    "                    ('knn', KNeighborsClassifier(n_neighbors=10))])\n",
    "\n",
    "pipe_lr.fit(X_train, y_train)\n",
    "score = pipe_lr.score(X_test, y_test)\n",
    "\n",
    "scores = []\n",
    "#for k, (train, test) in enumerate(kfold):\n",
    "#    pipe_lr.fit(X_train[train], y_train[train])\n",
    "#    score = pipe_lr.score(X_train[test], y_train[test])\n",
    "#    scores.append(score)\n",
    "#    print('Fold: %s, Class dist.: %s, Acc: %.3f' % (k + 1,\n",
    "#          np.bincount(y_train[train]), score))\n",
    "\n",
    "#print('\\nCV accuracy: %.3f +/- %.3f' % (np.mean(scores), np.std(scores)))\n"
   ]
  },
  {
   "cell_type": "code",
   "execution_count": 28,
   "metadata": {},
   "outputs": [],
   "source": [
    "Predictions=pd.DataFrame({'predict':pipe_lr.predict(X_test), 'actual':y_test})"
   ]
  },
  {
   "cell_type": "markdown",
   "metadata": {},
   "source": [
    "Many of the mismatches are cluster -1 (unclassified) and they've been classified into other groups.  Overall it's ~2,700 rows of more than 300,000 examples, so it's probably a fairly good classification."
   ]
  },
  {
   "cell_type": "markdown",
   "metadata": {},
   "source": [
    "## Training a New Model Using Origin and Destination Clusters"
   ]
  },
  {
   "cell_type": "markdown",
   "metadata": {},
   "source": [
    "Combining our newly introduced origin and destination clusters, added to the previously build features - we will now refit a Random Forest Regressor to predict taxifares for city wide data, again using a 70/30 test/train split."
   ]
  },
  {
   "cell_type": "code",
   "execution_count": 29,
   "metadata": {},
   "outputs": [],
   "source": [
    "Origins = farehistory[['pickup_latitude', 'pickup_longitude']]\n",
    "OriginGroup = pipe_lr.predict(Origins)\n",
    "\n",
    "Dropoffs = farehistory[['dropoff_latitude', 'dropoff_longitude']]\n",
    "DropoffGroup = pipe_lr.predict(Dropoffs)\n"
   ]
  },
  {
   "cell_type": "code",
   "execution_count": 30,
   "metadata": {},
   "outputs": [],
   "source": [
    "OriginGroup = pd.get_dummies(OriginGroup, prefix=\"origin\")\n",
    "DropoffGroup = pd.get_dummies(DropoffGroup, prefix=\"destination\")\n",
    "OriginDropOff = pd.concat((OriginGroup, DropoffGroup), axis=1, join_axes=[OriginGroup.index])"
   ]
  },
  {
   "cell_type": "code",
   "execution_count": 31,
   "metadata": {},
   "outputs": [],
   "source": [
    "#convert day and hour to dummy variables\n",
    "\n",
    "\n",
    "days = pd.get_dummies(farehistory['dayofweek'], prefix = \"weekday\")\n",
    "hours  = pd.get_dummies(farehistory['hour'], prefix = \"hour\")\n",
    "year = pd.get_dummies(farehistory['year'], prefix=\"year\")\n",
    "\n",
    "one_hot = pd.concat((days, hours, year), axis=1, join_axes=[days.index])"
   ]
  },
  {
   "cell_type": "code",
   "execution_count": 32,
   "metadata": {},
   "outputs": [],
   "source": [
    "y = farehistory['fare_amount']\n",
    "x = farehistory[['passenger_count', 'bearing', 'diffLat', 'diffLong']]\n",
    "x = pd.concat((x, one_hot), axis=1)\n",
    "\n",
    "x.reset_index(drop=True,inplace=True)\n",
    "OriginDropOff.reset_index(drop=True,inplace=True)\n",
    "\n",
    "\n",
    "x = pd.concat((x, OriginDropOff), axis=1)\n",
    "#x = farehistory.loc[:, 9:].values"
   ]
  },
  {
   "cell_type": "code",
   "execution_count": 33,
   "metadata": {},
   "outputs": [],
   "source": [
    "X_train, X_test, y_train, y_test = train_test_split(x, y, test_size=0.20, random_state=1)"
   ]
  },
  {
   "cell_type": "code",
   "execution_count": 34,
   "metadata": {},
   "outputs": [
    {
     "name": "stdout",
     "output_type": "stream",
     "text": [
      "Test Accuracy: 0.759\n"
     ]
    }
   ],
   "source": [
    "from sklearn.ensemble import RandomForestRegressor\n",
    "rfr = RandomForestRegressor()\n",
    "\n",
    "rfr.fit(X_train, y_train)\n",
    "print('Test Accuracy: %.3f' % rfr.score(X_test, y_test))"
   ]
  },
  {
   "cell_type": "code",
   "execution_count": 35,
   "metadata": {},
   "outputs": [
    {
     "data": {
      "text/plain": [
       "4.734241913535596"
      ]
     },
     "execution_count": 35,
     "metadata": {},
     "output_type": "execute_result"
    }
   ],
   "source": [
    "mean_squared_error(y_test,rfr.predict(X_test))**0.5"
   ]
  },
  {
   "cell_type": "code",
   "execution_count": 36,
   "metadata": {},
   "outputs": [],
   "source": [
    "predicted = rfr.predict(X_test)\n",
    "predicted = pd.DataFrame(predicted, columns=['predicted'])"
   ]
  },
  {
   "cell_type": "code",
   "execution_count": 37,
   "metadata": {},
   "outputs": [],
   "source": [
    "X_test.reset_index(inplace=True, drop=True)"
   ]
  },
  {
   "cell_type": "code",
   "execution_count": 38,
   "metadata": {},
   "outputs": [],
   "source": [
    "tested = pd.DataFrame(y_test.reset_index(drop=True))\n",
    "completetest = pd.concat((tested, predicted, X_test), axis=1)\n",
    "#pd.concat((predicted, pd.Series(y_test.reset_index(drop=True))), axis=1)"
   ]
  },
  {
   "cell_type": "code",
   "execution_count": 39,
   "metadata": {},
   "outputs": [
    {
     "data": {
      "text/plain": [
       "3.4479178917827737"
      ]
     },
     "execution_count": 39,
     "metadata": {},
     "output_type": "execute_result"
    }
   ],
   "source": [
    "UnclusteredOriginScore  = completetest.loc[(completetest['origin_-1']==0) & (completetest['destination_-1']==0)]\n",
    "(mean_squared_error(UnclusteredOriginScore['fare_amount'],UnclusteredOriginScore['predicted']))**0.5"
   ]
  },
  {
   "cell_type": "code",
   "execution_count": 40,
   "metadata": {},
   "outputs": [
    {
     "data": {
      "text/plain": [
       "3.787849228927795"
      ]
     },
     "execution_count": 40,
     "metadata": {},
     "output_type": "execute_result"
    }
   ],
   "source": [
    "KnownOrigin  = completetest.loc[completetest['origin_-1']!=1]\n",
    "mean_squared_error(KnownOrigin['fare_amount'],KnownOrigin['predicted'])**0.5"
   ]
  },
  {
   "cell_type": "markdown",
   "metadata": {},
   "source": [
    "While the general model performs no better than the previous model without the origin/destination clusters, when we exclude trips that had an \"unclustered\" origin or destination, the remainder of trips has a RMSE of 3.45 for trips with both origin and destination fitting a known cluster.\n",
    "\n",
    "With only a known origin, the error still improves to 3.78."
   ]
  },
  {
   "cell_type": "markdown",
   "metadata": {},
   "source": [
    "### Conclusions and Next Steps"
   ]
  },
  {
   "cell_type": "markdown",
   "metadata": {},
   "source": [
    "While the clustering solution failed to provide a better solution for *all* data points, it did provide a better solution for trips involving known origins and destinations.  \n",
    "\n",
    "Increasing the number of clusters could help address the number of trips falling entirely into a single clusters, like regions of Manhattan.  \n",
    "\n",
    "Use of a deepl learning algorithm would likely create a more accurate model, with the ability to address more granualarity of origin and destination.  Use of additional data for more training would also have an impact in such a model."
   ]
  },
  {
   "cell_type": "markdown",
   "metadata": {},
   "source": [
    "### Appendix - Prediction for New Data Set "
   ]
  },
  {
   "cell_type": "markdown",
   "metadata": {},
   "source": [
    "The remainder of code will address creating a data set for a Kaggle submission, based on the test data set of origins, destinations, and pick up times."
   ]
  },
  {
   "cell_type": "code",
   "execution_count": 41,
   "metadata": {},
   "outputs": [],
   "source": [
    "newTest = pd.read_csv(\"data/test.csv\")"
   ]
  },
  {
   "cell_type": "code",
   "execution_count": 42,
   "metadata": {},
   "outputs": [],
   "source": [
    "#feature development\n",
    "newTest['diffLong'] = abs(newTest['dropoff_longitude'] - newTest['pickup_longitude'])\n",
    "newTest['diffLat'] = abs(newTest['dropoff_latitude'] - newTest['pickup_latitude'])\n",
    "#calculate as the crow flies distance without correction for globe\n",
    "newTest['euclidean'] = (newTest['diffLong']**2 + newTest['diffLat']**2)**0.5\n",
    "\n",
    "#Sets of all values for hours, days, years, origin, dropoff\n",
    "\n",
    "dayset = list(range(0,7))\n",
    "hourset = list(range(0,24))\n",
    "yearset = list(range(2009,2016))\n",
    "geographies = list(range(-1,45))\n",
    "geographies.remove(23)\n",
    "geographies.remove(26)\n",
    "\n",
    "\n",
    "#calculate heading of travel\n",
    "newTest['bearing'] = arctan2(sin(newTest['dropoff_longitude'] - newTest['pickup_longitude'])*cos(newTest['dropoff_latitude']), cos(newTest['pickup_latitude'])*sin(newTest['dropoff_latitude'])-sin(newTest['pickup_latitude'])*cos(newTest['dropoff_latitude'])*cos(newTest['dropoff_longitude'] -newTest['pickup_longitude']))\n",
    "newTest['bearing'] = degrees(newTest['bearing'])\n",
    "newTest['bearing'] = (newTest['bearing'] + 360) % 360\n",
    "\n",
    "Origins = newTest[['pickup_latitude', 'pickup_longitude']]\n",
    "OriginGroup = pipe_lr.predict(Origins)\n",
    "\n",
    "Destinations = newTest[['pickup_latitude', 'pickup_longitude']]\n",
    "DropoffGroup = pipe_lr.predict(Destinations)\n",
    "\n",
    "\n",
    "newTest['pickup_datetime']=pd.to_datetime(newTest['pickup_datetime'])\n",
    "\n",
    "#Decode day of the week and make into a one-hot categorical variable\n",
    "newTest['dayofweek'] = (newTest['pickup_datetime'].dt.dayofweek)\n",
    "\n",
    "#Decode hour of the day and make into a one-hot categorical variable\n",
    "newTest['hour'] = (newTest['pickup_datetime'].dt.hour)\n",
    "newTest['year']= newTest['pickup_datetime'].dt.year\n",
    "\n",
    "\n",
    "days = pd.get_dummies(newTest['dayofweek'], prefix = \"weekday\")\n",
    "hours  = pd.get_dummies(newTest['hour'], prefix = \"hour\")\n",
    "year = pd.get_dummies(newTest['year'], prefix=\"year\")\n",
    "\n",
    "one_hot = pd.concat((days, hours, year), axis=1, join_axes=[days.index])\n",
    "\n",
    "OriginGroup = pd.get_dummies(OriginGroup, prefix=\"origin\")\n",
    "OriginGroup = OriginGroup.T.reindex(geographies).T.fillna(0)\n",
    "DropoffGroup = pd.get_dummies(DropoffGroup, prefix=\"destination\")\n",
    "DropoffGroup = DropoffGroup.T.reindex(geographies).T.fillna(0)\n",
    "\n",
    "OriginDropOff = pd.concat((OriginGroup, DropoffGroup), axis=1, join_axes=[OriginGroup.index])\n",
    "\n",
    "newX = newTest[['passenger_count', 'bearing', 'diffLat', 'diffLong']]\n",
    "newX = pd.concat((newX, one_hot), axis=1)\n",
    "\n",
    "newX.reset_index(drop=True,inplace=True)\n",
    "OriginDropOff.reset_index(drop=True,inplace=True)\n",
    "\n",
    "\n",
    "newX = pd.concat((newX, OriginDropOff), axis=1)\n",
    "#x = farehistory.loc[:, 9:].values\n",
    "newX.reset_index(drop=True, inplace=True)\n"
   ]
  },
  {
   "cell_type": "code",
   "execution_count": 43,
   "metadata": {},
   "outputs": [
    {
     "ename": "ValueError",
     "evalue": "Number of features of the model must match the input. Model n_features is 138 and input n_features is 130 ",
     "output_type": "error",
     "traceback": [
      "\u001b[1;31m---------------------------------------------------------------------------\u001b[0m",
      "\u001b[1;31mValueError\u001b[0m                                Traceback (most recent call last)",
      "\u001b[1;32m<ipython-input-43-5a5eeee1ea26>\u001b[0m in \u001b[0;36m<module>\u001b[1;34m()\u001b[0m\n\u001b[1;32m----> 1\u001b[1;33m \u001b[0mnewpredict\u001b[0m \u001b[1;33m=\u001b[0m \u001b[0mrfr\u001b[0m\u001b[1;33m.\u001b[0m\u001b[0mpredict\u001b[0m\u001b[1;33m(\u001b[0m\u001b[0mnewX\u001b[0m\u001b[1;33m)\u001b[0m\u001b[1;33m\u001b[0m\u001b[0m\n\u001b[0m",
      "\u001b[1;32m~\\AppData\\Local\\Continuum\\anaconda64a\\envs\\tensorflow\\lib\\site-packages\\sklearn\\ensemble\\forest.py\u001b[0m in \u001b[0;36mpredict\u001b[1;34m(self, X)\u001b[0m\n\u001b[0;32m    679\u001b[0m         \u001b[0mcheck_is_fitted\u001b[0m\u001b[1;33m(\u001b[0m\u001b[0mself\u001b[0m\u001b[1;33m,\u001b[0m \u001b[1;34m'estimators_'\u001b[0m\u001b[1;33m)\u001b[0m\u001b[1;33m\u001b[0m\u001b[0m\n\u001b[0;32m    680\u001b[0m         \u001b[1;31m# Check data\u001b[0m\u001b[1;33m\u001b[0m\u001b[1;33m\u001b[0m\u001b[0m\n\u001b[1;32m--> 681\u001b[1;33m         \u001b[0mX\u001b[0m \u001b[1;33m=\u001b[0m \u001b[0mself\u001b[0m\u001b[1;33m.\u001b[0m\u001b[0m_validate_X_predict\u001b[0m\u001b[1;33m(\u001b[0m\u001b[0mX\u001b[0m\u001b[1;33m)\u001b[0m\u001b[1;33m\u001b[0m\u001b[0m\n\u001b[0m\u001b[0;32m    682\u001b[0m \u001b[1;33m\u001b[0m\u001b[0m\n\u001b[0;32m    683\u001b[0m         \u001b[1;31m# Assign chunk of trees to jobs\u001b[0m\u001b[1;33m\u001b[0m\u001b[1;33m\u001b[0m\u001b[0m\n",
      "\u001b[1;32m~\\AppData\\Local\\Continuum\\anaconda64a\\envs\\tensorflow\\lib\\site-packages\\sklearn\\ensemble\\forest.py\u001b[0m in \u001b[0;36m_validate_X_predict\u001b[1;34m(self, X)\u001b[0m\n\u001b[0;32m    355\u001b[0m                                  \"call `fit` before exploiting the model.\")\n\u001b[0;32m    356\u001b[0m \u001b[1;33m\u001b[0m\u001b[0m\n\u001b[1;32m--> 357\u001b[1;33m         \u001b[1;32mreturn\u001b[0m \u001b[0mself\u001b[0m\u001b[1;33m.\u001b[0m\u001b[0mestimators_\u001b[0m\u001b[1;33m[\u001b[0m\u001b[1;36m0\u001b[0m\u001b[1;33m]\u001b[0m\u001b[1;33m.\u001b[0m\u001b[0m_validate_X_predict\u001b[0m\u001b[1;33m(\u001b[0m\u001b[0mX\u001b[0m\u001b[1;33m,\u001b[0m \u001b[0mcheck_input\u001b[0m\u001b[1;33m=\u001b[0m\u001b[1;32mTrue\u001b[0m\u001b[1;33m)\u001b[0m\u001b[1;33m\u001b[0m\u001b[0m\n\u001b[0m\u001b[0;32m    358\u001b[0m \u001b[1;33m\u001b[0m\u001b[0m\n\u001b[0;32m    359\u001b[0m     \u001b[1;33m@\u001b[0m\u001b[0mproperty\u001b[0m\u001b[1;33m\u001b[0m\u001b[0m\n",
      "\u001b[1;32m~\\AppData\\Local\\Continuum\\anaconda64a\\envs\\tensorflow\\lib\\site-packages\\sklearn\\tree\\tree.py\u001b[0m in \u001b[0;36m_validate_X_predict\u001b[1;34m(self, X, check_input)\u001b[0m\n\u001b[0;32m    382\u001b[0m                              \u001b[1;34m\"match the input. Model n_features is %s and \"\u001b[0m\u001b[1;33m\u001b[0m\u001b[0m\n\u001b[0;32m    383\u001b[0m                              \u001b[1;34m\"input n_features is %s \"\u001b[0m\u001b[1;33m\u001b[0m\u001b[0m\n\u001b[1;32m--> 384\u001b[1;33m                              % (self.n_features_, n_features))\n\u001b[0m\u001b[0;32m    385\u001b[0m \u001b[1;33m\u001b[0m\u001b[0m\n\u001b[0;32m    386\u001b[0m         \u001b[1;32mreturn\u001b[0m \u001b[0mX\u001b[0m\u001b[1;33m\u001b[0m\u001b[0m\n",
      "\u001b[1;31mValueError\u001b[0m: Number of features of the model must match the input. Model n_features is 138 and input n_features is 130 "
     ]
    }
   ],
   "source": [
    "newpredict = rfr.predict(newX)"
   ]
  },
  {
   "cell_type": "code",
   "execution_count": null,
   "metadata": {},
   "outputs": [],
   "source": [
    "newpredict = pd.DataFrame({'key':newTest['key'], 'fare_amount':newpredict})"
   ]
  },
  {
   "cell_type": "code",
   "execution_count": null,
   "metadata": {},
   "outputs": [],
   "source": [
    "newpredict = newpredict[['key', 'fare_amount']]\n",
    "newpredict.to_csv(\"dpmurraypredict.csv\", index=False)"
   ]
  },
  {
   "cell_type": "code",
   "execution_count": null,
   "metadata": {},
   "outputs": [],
   "source": [
    "from sklearn.linear_model import LinearRegression\n",
    "linreg = LinearRegression()\n",
    "\n",
    "linreg.fit(X_train, y_train)\n",
    "print('Test Accuracy: %.3f' % linreg.score(X_test, y_test))"
   ]
  },
  {
   "cell_type": "code",
   "execution_count": null,
   "metadata": {},
   "outputs": [],
   "source": [
    "mean_squared_error(y_test,linreg.predict(X_test))**0.5"
   ]
  },
  {
   "cell_type": "code",
   "execution_count": null,
   "metadata": {},
   "outputs": [],
   "source": [
    "from sklearn.ensemble import AdaBoostRegressor\n",
    "abr = AdaBoostRegressor()\n",
    "\n",
    "abr.fit(X_train, y_train)\n",
    "print('Test Accuracy: %.3f' % abr.score(X_test, y_test))"
   ]
  },
  {
   "cell_type": "code",
   "execution_count": null,
   "metadata": {},
   "outputs": [],
   "source": [
    "mean_squared_error(y_test,abr.predict(X_test))**0.5"
   ]
  },
  {
   "cell_type": "code",
   "execution_count": null,
   "metadata": {},
   "outputs": [],
   "source": [
    "from sklearn.linear_model import BayesianRidge\n",
    "brm = BayesianRidge()\n",
    "\n",
    "brm.fit(X_train, y_train)\n",
    "\n",
    "print('Test Accuracy: %.3f' % brm.score(X_test, y_test))\n"
   ]
  },
  {
   "cell_type": "code",
   "execution_count": null,
   "metadata": {},
   "outputs": [],
   "source": [
    "mean_squared_error(y_test,brm.predict(X_test))**0.5"
   ]
  }
 ],
 "metadata": {
  "kernelspec": {
   "display_name": "Python 3",
   "language": "python",
   "name": "python3"
  },
  "language_info": {
   "codemirror_mode": {
    "name": "ipython",
    "version": 3
   },
   "file_extension": ".py",
   "mimetype": "text/x-python",
   "name": "python",
   "nbconvert_exporter": "python",
   "pygments_lexer": "ipython3",
   "version": "3.5.4"
  }
 },
 "nbformat": 4,
 "nbformat_minor": 2
}
